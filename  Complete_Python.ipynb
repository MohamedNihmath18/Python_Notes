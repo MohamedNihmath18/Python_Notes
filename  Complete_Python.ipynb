{
 "cells": [
  {
   "cell_type": "markdown",
   "id": "e4969778-cb4b-4481-8db1-d3ab78bc620b",
   "metadata": {},
   "source": [
    "# First Notebook"
   ]
  },
  {
   "cell_type": "code",
   "execution_count": 2,
   "id": "8af82b51-5d98-4161-ac3c-c957b6addadb",
   "metadata": {},
   "outputs": [
    {
     "name": "stdout",
     "output_type": "stream",
     "text": [
      "Hello World!\n"
     ]
    }
   ],
   "source": [
    "print('Hello World!')"
   ]
  },
  {
   "cell_type": "markdown",
   "id": "9e4afc5e-78a0-4349-b16b-f0fbaccaca92",
   "metadata": {},
   "source": [
    "\n",
    "# Variables in Python"
   ]
  },
  {
   "cell_type": "code",
   "execution_count": 15,
   "id": "25440bec-c610-4a89-9246-52420a9d5d9b",
   "metadata": {},
   "outputs": [
    {
     "name": "stdout",
     "output_type": "stream",
     "text": [
      "22\n"
     ]
    }
   ],
   "source": [
    "x = 22 \n",
    "print(x)"
   ]
  },
  {
   "cell_type": "code",
   "execution_count": 19,
   "id": "bf6a90cf-1482-42b8-9fd0-501fb741ec7b",
   "metadata": {},
   "outputs": [
    {
     "data": {
      "text/plain": [
       "int"
      ]
     },
     "execution_count": 19,
     "metadata": {},
     "output_type": "execute_result"
    }
   ],
   "source": [
    "type(x)"
   ]
  },
  {
   "cell_type": "code",
   "execution_count": 21,
   "id": "e4b0fcfc-0745-4fb1-9018-d2ba1780975c",
   "metadata": {},
   "outputs": [
    {
     "name": "stdout",
     "output_type": "stream",
     "text": [
      "Chocolate Cookies\n"
     ]
    }
   ],
   "source": [
    "y = 'Chocolate Cookies'\n",
    "print(y)"
   ]
  },
  {
   "cell_type": "code",
   "execution_count": 23,
   "id": "edcdcf6f-c24b-42b2-9c55-e3c5e1c82033",
   "metadata": {},
   "outputs": [
    {
     "data": {
      "text/plain": [
       "str"
      ]
     },
     "execution_count": 23,
     "metadata": {},
     "output_type": "execute_result"
    }
   ],
   "source": [
    "type(y)"
   ]
  },
  {
   "cell_type": "code",
   "execution_count": 40,
   "id": "96f420de-ddf5-4e96-8bb3-c001f8b31d70",
   "metadata": {},
   "outputs": [
    {
     "name": "stdout",
     "output_type": "stream",
     "text": [
      "Mint Chocolate\n"
     ]
    }
   ],
   "source": [
    "y= 'Chocolate'\n",
    "Y='Mint Chocolate'\n",
    "print(Y)"
   ]
  },
  {
   "cell_type": "code",
   "execution_count": 42,
   "id": "dfd7c32d-ba65-43b1-9083-56072ef7e780",
   "metadata": {},
   "outputs": [
    {
     "name": "stdout",
     "output_type": "stream",
     "text": [
      "Chocolate\n",
      "Vanilla\n",
      "Rocky Road\n"
     ]
    }
   ],
   "source": [
    "x, y,z = 'Chocolate', 'Vanilla', 'Rocky Road'\n",
    "print(x)\n",
    "print(y)\n",
    "print(z)"
   ]
  },
  {
   "cell_type": "code",
   "execution_count": 44,
   "id": "c33d1e2e-1937-4aeb-ac6f-0664e346475c",
   "metadata": {},
   "outputs": [
    {
     "name": "stdout",
     "output_type": "stream",
     "text": [
      "Root Beer Float\n",
      "Root Beer Float\n",
      "Root Beer Float\n"
     ]
    }
   ],
   "source": [
    "x= y= z = 'Root Beer Float' \n",
    "print(x)\n",
    "print(y)\n",
    "print(z)"
   ]
  },
  {
   "cell_type": "markdown",
   "id": "53847d12-d577-4408-a180-936a99d275cd",
   "metadata": {},
   "source": [
    " # List"
   ]
  },
  {
   "cell_type": "code",
   "execution_count": 47,
   "id": "6e92ee19-acb4-4c26-8b1f-1295ef353ee9",
   "metadata": {},
   "outputs": [
    {
     "name": "stdout",
     "output_type": "stream",
     "text": [
      "Chocolate\n",
      "Vanilla\n",
      "Rocky Road\n"
     ]
    }
   ],
   "source": [
    "ice_cream = ['Chocolate', 'Vanilla', 'Rocky Road']\n",
    "x,y,z = ice_cream\n",
    "print(x)\n",
    "print(y)\n",
    "print(z)"
   ]
  },
  {
   "cell_type": "code",
   "execution_count": null,
   "id": "ca73967f-dab4-46a8-9ef6-10124db8f69d",
   "metadata": {},
   "outputs": [],
   "source": []
  },
  {
   "cell_type": "code",
   "execution_count": null,
   "id": "19373980-d22b-4c0e-bc75-ab53cbb45cad",
   "metadata": {},
   "outputs": [],
   "source": [
    "# Camel Case\n",
    "\n",
    "#Test Variable Case\n",
    "\n",
    "testVariableCase = 'Vanilla Swirl'"
   ]
  },
  {
   "cell_type": "code",
   "execution_count": null,
   "id": "8fe95484-cc61-41ff-8a3c-123437722e61",
   "metadata": {},
   "outputs": [],
   "source": [
    "# Pascal Case\n",
    "\n",
    "#Test Variable Case\n",
    "\n",
    "TestVariableCase = 'Vanilla Swirl'"
   ]
  },
  {
   "cell_type": "code",
   "execution_count": null,
   "id": "e098827d-8619-4363-a521-6526de9cfd56",
   "metadata": {},
   "outputs": [],
   "source": [
    "# Snake Case\n",
    "\n",
    "#Test Variable Case\n",
    "\n",
    "test_Variable_Case = 'Vanilla Swirl'"
   ]
  },
  {
   "cell_type": "code",
   "execution_count": 54,
   "id": "9cf00c19-c44b-4159-bae8-015ff1a0d1f3",
   "metadata": {},
   "outputs": [
    {
     "name": "stdout",
     "output_type": "stream",
     "text": [
      "Ice Cream is my Favorite.\n"
     ]
    }
   ],
   "source": [
    "x = 'Ice Cream is my Favorite' + '.'\n",
    "print(x)"
   ]
  },
  {
   "cell_type": "code",
   "execution_count": 75,
   "id": "dd7f8130-6557-4ff1-9fb7-8673f182004f",
   "metadata": {},
   "outputs": [
    {
     "ename": "TypeError",
     "evalue": "can only concatenate str (not \"int\") to str",
     "output_type": "error",
     "traceback": [
      "\u001b[1;31m---------------------------------------------------------------------------\u001b[0m",
      "\u001b[1;31mTypeError\u001b[0m                                 Traceback (most recent call last)",
      "Cell \u001b[1;32mIn[75], line 1\u001b[0m\n\u001b[1;32m----> 1\u001b[0m x \u001b[38;5;241m=\u001b[39m \u001b[38;5;124;43m'\u001b[39;49m\u001b[38;5;124;43mIce Cream is my Favorite\u001b[39;49m\u001b[38;5;124;43m'\u001b[39;49m\u001b[43m \u001b[49m\u001b[38;5;241;43m+\u001b[39;49m\u001b[43m \u001b[49m\u001b[38;5;241;43m2\u001b[39;49m\n\u001b[0;32m      2\u001b[0m \u001b[38;5;28mprint\u001b[39m(x)\n",
      "\u001b[1;31mTypeError\u001b[0m: can only concatenate str (not \"int\") to str"
     ]
    }
   ],
   "source": [
    "x = 'Ice Cream is my Favorite' + 2\n",
    "print(x)"
   ]
  },
  {
   "cell_type": "code",
   "execution_count": 79,
   "id": "f89f59f9-20e9-4d3f-8da0-5f34d29b0662",
   "metadata": {},
   "outputs": [
    {
     "name": "stdout",
     "output_type": "stream",
     "text": [
      "Ice Cream is my Favorite2\n"
     ]
    }
   ],
   "source": [
    "x = 'Ice Cream is my Favorite' + '2'\n",
    "print(x)"
   ]
  },
  {
   "cell_type": "code",
   "execution_count": 69,
   "id": "e115fd5a-2903-4644-abb6-8c3dd6f288e6",
   "metadata": {},
   "outputs": [
    {
     "name": "stdout",
     "output_type": "stream",
     "text": [
      "5\n"
     ]
    }
   ],
   "source": [
    "y = 3 + 2\n",
    "print(y)"
   ]
  },
  {
   "cell_type": "code",
   "execution_count": 83,
   "id": "c83d8397-e052-4007-abdc-0724ee68d39f",
   "metadata": {},
   "outputs": [
    {
     "name": "stdout",
     "output_type": "stream",
     "text": [
      "Ice Cream is my favorite.\n"
     ]
    }
   ],
   "source": [
    "x ='Ice Cream'\n",
    "y = ' is'\n",
    "z = ' my favorite.'\n",
    "\n",
    "print(x+y+z)"
   ]
  },
  {
   "cell_type": "code",
   "execution_count": 91,
   "id": "3e6c4788-c1d2-4650-b22d-67460cb97aaf",
   "metadata": {},
   "outputs": [
    {
     "name": "stdout",
     "output_type": "stream",
     "text": [
      "1 Ice Cream\n"
     ]
    }
   ],
   "source": [
    "x =1\n",
    "y = 'Ice Cream'\n",
    "print(x,y)"
   ]
  },
  {
   "cell_type": "code",
   "execution_count": null,
   "id": "e133cd8a-1ed9-424f-948a-c59c6d938315",
   "metadata": {},
   "outputs": [],
   "source": []
  },
  {
   "cell_type": "markdown",
   "id": "f151bca0-1a11-47ba-8e35-4f28121b1d8d",
   "metadata": {},
   "source": [
    "# Data Types"
   ]
  },
  {
   "cell_type": "code",
   "execution_count": null,
   "id": "ad14565b-d172-468a-a0f1-5b4382f539d9",
   "metadata": {},
   "outputs": [],
   "source": [
    "# Numeric Data Types : int , float, complex"
   ]
  },
  {
   "cell_type": "code",
   "execution_count": 94,
   "id": "81085fda-cdce-44d6-a6b1-b12ddd9e9190",
   "metadata": {},
   "outputs": [
    {
     "data": {
      "text/plain": [
       "int"
      ]
     },
     "execution_count": 94,
     "metadata": {},
     "output_type": "execute_result"
    }
   ],
   "source": [
    "type(-12 + 100)"
   ]
  },
  {
   "cell_type": "code",
   "execution_count": 98,
   "id": "6af027e3-50dc-49f1-8cc8-3bcc71dda9ed",
   "metadata": {},
   "outputs": [
    {
     "data": {
      "text/plain": [
       "float"
      ]
     },
     "execution_count": 98,
     "metadata": {},
     "output_type": "execute_result"
    }
   ],
   "source": [
    "type(12 + 10.25)"
   ]
  },
  {
   "cell_type": "code",
   "execution_count": 100,
   "id": "ab0b0c74-cec2-47a3-b990-c603b83084c6",
   "metadata": {},
   "outputs": [
    {
     "data": {
      "text/plain": [
       "complex"
      ]
     },
     "execution_count": 100,
     "metadata": {},
     "output_type": "execute_result"
    }
   ],
   "source": [
    "type(12 + 3j)"
   ]
  },
  {
   "cell_type": "code",
   "execution_count": 106,
   "id": "a7a7ae8c-bf0f-40a9-b504-6d1adbc16d81",
   "metadata": {},
   "outputs": [
    {
     "data": {
      "text/plain": [
       "bool"
      ]
     },
     "execution_count": 106,
     "metadata": {},
     "output_type": "execute_result"
    }
   ],
   "source": [
    "#Boolean\n",
    "\n",
    "type(True)\n",
    " "
   ]
  },
  {
   "cell_type": "code",
   "execution_count": 108,
   "id": "fd248944-2899-4587-82ed-15d290bdc3fd",
   "metadata": {},
   "outputs": [
    {
     "data": {
      "text/plain": [
       "bool"
      ]
     },
     "execution_count": 108,
     "metadata": {},
     "output_type": "execute_result"
    }
   ],
   "source": [
    "type(1 > 5)"
   ]
  },
  {
   "cell_type": "code",
   "execution_count": 110,
   "id": "ccde6f0a-bb6b-4b13-ac55-42ccff3b31fe",
   "metadata": {},
   "outputs": [
    {
     "data": {
      "text/plain": [
       "False"
      ]
     },
     "execution_count": 110,
     "metadata": {},
     "output_type": "execute_result"
    }
   ],
   "source": [
    "1 > 5"
   ]
  },
  {
   "cell_type": "code",
   "execution_count": 118,
   "id": "8147a585-7a26-45b1-b0a1-d8a7274a4553",
   "metadata": {},
   "outputs": [],
   "source": [
    "# Sequence Data Types : string, list, tuple"
   ]
  },
  {
   "cell_type": "code",
   "execution_count": 127,
   "id": "cec44e10-5b9f-4e52-9de1-22986ab8863e",
   "metadata": {},
   "outputs": [],
   "source": [
    "# Strings"
   ]
  },
  {
   "cell_type": "code",
   "execution_count": 129,
   "id": "e31cd559-cf0c-4ae2-b971-6df3706a5cdb",
   "metadata": {},
   "outputs": [
    {
     "data": {
      "text/plain": [
       "'Single Quotes'"
      ]
     },
     "execution_count": 129,
     "metadata": {},
     "output_type": "execute_result"
    }
   ],
   "source": [
    "'Single Quotes'"
   ]
  },
  {
   "cell_type": "code",
   "execution_count": 131,
   "id": "28278dd3-efca-4cb9-8bfc-7c6fdf4ac684",
   "metadata": {},
   "outputs": [
    {
     "data": {
      "text/plain": [
       "'Double Quotes'"
      ]
     },
     "execution_count": 131,
     "metadata": {},
     "output_type": "execute_result"
    }
   ],
   "source": [
    "\"Double Quotes\""
   ]
  },
  {
   "cell_type": "code",
   "execution_count": 133,
   "id": "6fa5b01e-f9d2-4a4d-950b-84179fa0b721",
   "metadata": {},
   "outputs": [
    {
     "name": "stdout",
     "output_type": "stream",
     "text": [
      "\n",
      "Mohamed Nihmathullah\n",
      "Bin\n",
      "Ahamed Hussain\n",
      "\n"
     ]
    }
   ],
   "source": [
    "multiline = \"\"\"\n",
    "Mohamed Nihmathullah\n",
    "Bin\n",
    "Ahamed Hussain\n",
    "\"\"\"\n",
    "\n",
    "print(multiline)"
   ]
  },
  {
   "cell_type": "code",
   "execution_count": 135,
   "id": "c31c2b99-988e-4c8a-8ebc-fbfbf4ad8055",
   "metadata": {},
   "outputs": [
    {
     "data": {
      "text/plain": [
       "str"
      ]
     },
     "execution_count": 135,
     "metadata": {},
     "output_type": "execute_result"
    }
   ],
   "source": [
    "type(multiline)"
   ]
  },
  {
   "cell_type": "code",
   "execution_count": 145,
   "id": "4782e55e-c43f-4ba3-b793-515346dffa7f",
   "metadata": {},
   "outputs": [
    {
     "name": "stdout",
     "output_type": "stream",
     "text": [
      "llo\n"
     ]
    }
   ],
   "source": [
    "a = 'Hello World!'\n",
    "print(a[2:5])"
   ]
  },
  {
   "cell_type": "code",
   "execution_count": 147,
   "id": "15543ed5-98d7-48bf-9905-ae9875357a5a",
   "metadata": {},
   "outputs": [
    {
     "data": {
      "text/plain": [
       "'Hello World!Hello World!Hello World!'"
      ]
     },
     "execution_count": 147,
     "metadata": {},
     "output_type": "execute_result"
    }
   ],
   "source": [
    "a*3"
   ]
  },
  {
   "cell_type": "code",
   "execution_count": 149,
   "id": "49c69612-b328-43db-9543-ce2e3970e3a6",
   "metadata": {},
   "outputs": [
    {
     "data": {
      "text/plain": [
       "'Hello World!Hello World!'"
      ]
     },
     "execution_count": 149,
     "metadata": {},
     "output_type": "execute_result"
    }
   ],
   "source": [
    "a+a"
   ]
  },
  {
   "cell_type": "markdown",
   "id": "3073348d-0244-43fd-898c-877a464169d0",
   "metadata": {},
   "source": [
    "# List []\n",
    "\n",
    "\n"
   ]
  },
  {
   "cell_type": "code",
   "execution_count": null,
   "id": "cd96be68-f62a-408a-82a7-db9ea54b2252",
   "metadata": {},
   "outputs": [],
   "source": [
    "###\n",
    "\"\"\"\n",
    "Lists in Python are ordered collections of elements. They are mutable, meaning you can change their contents after they are created.\n",
    "Lists can contain elements of different data types.\n",
    "\n",
    "Here are some key points about lists:\n",
    "\n",
    "Ordered: Elements in a list are stored in a specific order.\n",
    "Mutable: You can add, remove, or modify elements in a list.\n",
    "Heterogeneous: Lists can contain elements of different data types.\n",
    "Indexed: Each element in a list has an index, starting from 0.\n",
    "Can be nested: Lists can contain other lists.\n",
    "\n",
    "\"\"\"\n",
    "###"
   ]
  },
  {
   "cell_type": "code",
   "execution_count": 157,
   "id": "bceafa50-1352-48ca-a237-ef83ac2d86c8",
   "metadata": {},
   "outputs": [
    {
     "data": {
      "text/plain": [
       "['Cookies', 'Strawberry', 'Chocolate']"
      ]
     },
     "execution_count": 157,
     "metadata": {},
     "output_type": "execute_result"
    }
   ],
   "source": [
    "['Cookies', 'Strawberry', 'Chocolate']"
   ]
  },
  {
   "cell_type": "code",
   "execution_count": 159,
   "id": "0381ebb6-4fe8-4e58-8a9a-299af4f8e3dd",
   "metadata": {},
   "outputs": [
    {
     "data": {
      "text/plain": [
       "['Cookies', 'Strawberry', 'Chocolate', 'Salted Careml']"
      ]
     },
     "execution_count": 159,
     "metadata": {},
     "output_type": "execute_result"
    }
   ],
   "source": [
    "# Adding items in the List:\n",
    "ice_cream = ['Cookies', 'Strawberry', 'Chocolate']\n",
    "ice_cream.append('Salted Careml')\n",
    "ice_cream"
   ]
  },
  {
   "cell_type": "code",
   "execution_count": 161,
   "id": "3e0e74dc-4dac-4d50-a830-810ec1ca32c6",
   "metadata": {},
   "outputs": [
    {
     "data": {
      "text/plain": [
       "['Butter Pecan', 'Strawberry', 'Chocolate', 'Salted Careml']"
      ]
     },
     "execution_count": 161,
     "metadata": {},
     "output_type": "execute_result"
    }
   ],
   "source": [
    "# Changing Items in the List:\n",
    "\n",
    "ice_cream[0] = 'Butter Pecan'\n",
    "ice_cream\n"
   ]
  },
  {
   "cell_type": "code",
   "execution_count": 163,
   "id": "1254727e-3614-4f4a-aaae-d7048bad4022",
   "metadata": {},
   "outputs": [],
   "source": [
    "# Nested List:\n",
    " #index          0       1           2           3\n",
    "nest_list = ['Vanilla', 3, ['Scoops', 'Spoon'],True]\n",
    "                              # 0         1"
   ]
  },
  {
   "cell_type": "code",
   "execution_count": 167,
   "id": "477f7b48-afaf-4ace-a128-e5d7c72bd27c",
   "metadata": {},
   "outputs": [
    {
     "data": {
      "text/plain": [
       "['Scoops', 'Spoon']"
      ]
     },
     "execution_count": 167,
     "metadata": {},
     "output_type": "execute_result"
    }
   ],
   "source": [
    "nest_list[2]"
   ]
  },
  {
   "cell_type": "code",
   "execution_count": 169,
   "id": "294510eb-c9d5-4156-8797-a2e400529473",
   "metadata": {},
   "outputs": [
    {
     "data": {
      "text/plain": [
       "'Spoon'"
      ]
     },
     "execution_count": 169,
     "metadata": {},
     "output_type": "execute_result"
    }
   ],
   "source": [
    "nest_list[2][1]"
   ]
  },
  {
   "cell_type": "markdown",
   "id": "c744f437-5602-4a69-91c2-d1dbf823ef0e",
   "metadata": {},
   "source": [
    "# Tuple ()"
   ]
  },
  {
   "cell_type": "code",
   "execution_count": null,
   "id": "08139eee-a96e-477c-b3a2-f8c75d5d4ef6",
   "metadata": {},
   "outputs": [],
   "source": [
    "\"\"\" \n",
    "Tuples in Python are ordered collections of elements, similar to lists. However, unlike lists, \n",
    "tuples are immutable, meaning their elements cannot be changed once they are created.   \n",
    "\n",
    "Key points about tuples:\n",
    "\n",
    "1.Ordered: Elements in a tuple are stored in a specific order.\n",
    "2.Immutable: You cannot modify the elements of a tuple after it's created.\n",
    "3.Heterogeneous: Tuples can contain elements of different data types.\n",
    "4.Indexed: Each element in a tuple has an index, starting from 0.\n",
    "5.Can be nested: Tuples can contain other tuples.\n",
    "\"\"\""
   ]
  },
  {
   "cell_type": "code",
   "execution_count": 183,
   "id": "56b03937-9c13-4626-bde4-3a09af7387ec",
   "metadata": {},
   "outputs": [],
   "source": [
    "#tuple - ()\n",
    "\n",
    "tuple_scoops = (1,2,3,2,1)"
   ]
  },
  {
   "cell_type": "code",
   "execution_count": 185,
   "id": "d5b7984c-ae0a-4b97-8088-0ca0a1f02468",
   "metadata": {},
   "outputs": [
    {
     "data": {
      "text/plain": [
       "tuple"
      ]
     },
     "execution_count": 185,
     "metadata": {},
     "output_type": "execute_result"
    }
   ],
   "source": [
    "type(tuple_scoops)"
   ]
  },
  {
   "cell_type": "code",
   "execution_count": 187,
   "id": "85d9ea45-87be-4c82-b9ed-0bd5dfcf1428",
   "metadata": {},
   "outputs": [
    {
     "data": {
      "text/plain": [
       "1"
      ]
     },
     "execution_count": 187,
     "metadata": {},
     "output_type": "execute_result"
    }
   ],
   "source": [
    "tuple_scoops[0]"
   ]
  },
  {
   "cell_type": "code",
   "execution_count": 189,
   "id": "047cfc6f-a99d-4d7c-8572-eb016241b0f1",
   "metadata": {},
   "outputs": [
    {
     "ename": "AttributeError",
     "evalue": "'tuple' object has no attribute 'append'",
     "output_type": "error",
     "traceback": [
      "\u001b[1;31m---------------------------------------------------------------------------\u001b[0m",
      "\u001b[1;31mAttributeError\u001b[0m                            Traceback (most recent call last)",
      "Cell \u001b[1;32mIn[189], line 1\u001b[0m\n\u001b[1;32m----> 1\u001b[0m \u001b[43mtuple_scoops\u001b[49m\u001b[38;5;241;43m.\u001b[39;49m\u001b[43mappend\u001b[49m(\u001b[38;5;241m3\u001b[39m)\n",
      "\u001b[1;31mAttributeError\u001b[0m: 'tuple' object has no attribute 'append'"
     ]
    }
   ],
   "source": [
    "tuple_scoops.append(3)"
   ]
  },
  {
   "cell_type": "markdown",
   "id": "7c2c1481-a4b8-410a-9272-de74aef98f61",
   "metadata": {},
   "source": [
    "# Set - {}"
   ]
  },
  {
   "cell_type": "code",
   "execution_count": null,
   "id": "0523f8e8-ea45-4410-97e9-6f5eb3a7ce38",
   "metadata": {},
   "outputs": [],
   "source": [
    "#sets\n",
    "\n",
    "\"\"\"\n",
    "Sets in Python are unordered collections of unique elements. They are useful for performing operations like union, \n",
    "intersection, and difference between sets.   \n",
    "\n",
    "Key points about sets:\n",
    "\n",
    "1.Unordered: Elements in a set do not have a specific order.\n",
    "2.Unique: A set cannot contain duplicate elements.\n",
    "3.Mutable: You can add or remove elements from a set.\n",
    "4.Heterogeneous: Sets can contain elements of different data types.\n",
    "\"\"\""
   ]
  },
  {
   "cell_type": "code",
   "execution_count": 198,
   "id": "49e61e06-5541-4e10-9627-20b8ede4b418",
   "metadata": {},
   "outputs": [],
   "source": [
    "#sets :\n",
    "\n",
    "daily_pints = {1,2,3}"
   ]
  },
  {
   "cell_type": "code",
   "execution_count": 200,
   "id": "0f2a9d28-fc22-472f-ab2b-dfc11faac0d2",
   "metadata": {},
   "outputs": [
    {
     "data": {
      "text/plain": [
       "set"
      ]
     },
     "execution_count": 200,
     "metadata": {},
     "output_type": "execute_result"
    }
   ],
   "source": [
    "type(daily_pints)"
   ]
  },
  {
   "cell_type": "code",
   "execution_count": 202,
   "id": "5344be26-918f-4e8d-af5c-9a0f7f3ada00",
   "metadata": {},
   "outputs": [
    {
     "name": "stdout",
     "output_type": "stream",
     "text": [
      "{1, 2, 3}\n"
     ]
    }
   ],
   "source": [
    "print(daily_pints)"
   ]
  },
  {
   "cell_type": "code",
   "execution_count": 204,
   "id": "9e82e53f-0e37-4200-88e4-a08d90a8c9e1",
   "metadata": {},
   "outputs": [
    {
     "name": "stdout",
     "output_type": "stream",
     "text": [
      "{1, 2, 3, 4, 5, 6, 31}\n"
     ]
    }
   ],
   "source": [
    "daily_pints_logs ={1,2,31,2,3,4,1,2,5,6,3,2}\n",
    "\n",
    "print(daily_pints_logs)"
   ]
  },
  {
   "cell_type": "code",
   "execution_count": 225,
   "id": "bb006ee4-f181-4edf-af9c-bf61396f2453",
   "metadata": {},
   "outputs": [
    {
     "name": "stdout",
     "output_type": "stream",
     "text": [
      "{0, 1, 2, 3, 4, 5, 6, 7, 24, 31}\n"
     ]
    }
   ],
   "source": [
    "wifes_daily_pints_logs = {1,3,5,7,3,24,5,7,3,2,0}\n",
    "\n",
    "#combines both and find unique values\n",
    "print(daily_pints_logs | wifes_daily_pints_logs)"
   ]
  },
  {
   "cell_type": "code",
   "execution_count": 227,
   "id": "4ec02788-09d9-4ede-acda-180b49a8e616",
   "metadata": {},
   "outputs": [
    {
     "name": "stdout",
     "output_type": "stream",
     "text": [
      "{1, 2, 3, 5}\n"
     ]
    }
   ],
   "source": [
    "#The values which is in both sets:\n",
    "print(daily_pints_logs & wifes_daily_pints_logs)"
   ]
  },
  {
   "cell_type": "code",
   "execution_count": 231,
   "id": "1df34d47-8121-4900-ae54-650cfc27951c",
   "metadata": {},
   "outputs": [
    {
     "name": "stdout",
     "output_type": "stream",
     "text": [
      "{4, 6, 31}\n"
     ]
    }
   ],
   "source": [
    "# It shows values that doesn't match:\n",
    "print(daily_pints_logs - wifes_daily_pints_logs)"
   ]
  },
  {
   "cell_type": "code",
   "execution_count": 233,
   "id": "feb14d13-e221-486d-a1dc-8949745b2c92",
   "metadata": {},
   "outputs": [
    {
     "name": "stdout",
     "output_type": "stream",
     "text": [
      "{0, 24, 7}\n"
     ]
    }
   ],
   "source": [
    "print(wifes_daily_pints_logs - daily_pints_logs)"
   ]
  },
  {
   "cell_type": "code",
   "execution_count": 235,
   "id": "fd527909-e824-49d5-8239-72da8830fa9d",
   "metadata": {},
   "outputs": [
    {
     "name": "stdout",
     "output_type": "stream",
     "text": [
      "{0, 4, 6, 7, 24, 31}\n"
     ]
    }
   ],
   "source": [
    "#It shows Unique values in both Sets\n",
    "print(wifes_daily_pints_logs ^ daily_pints_logs)"
   ]
  },
  {
   "cell_type": "markdown",
   "id": "d030bc23-d4df-40a9-ad25-c49ccc7c983b",
   "metadata": {},
   "source": [
    "# Dictionaries - {key : value} "
   ]
  },
  {
   "cell_type": "code",
   "execution_count": null,
   "id": "0b2578ab-018b-4f09-8048-7f0b7123c43b",
   "metadata": {},
   "outputs": [],
   "source": [
    "# Dictionaries :\n",
    "\n",
    "\"\"\"\n",
    "Dictionaries in Python are unordered collections of key-value pairs. Each key must be unique, while the values can be of any data type.\n",
    "\n",
    "Key points about dictionaries:\n",
    "\n",
    "1.Unordered: Elements in a dictionary do not have a specific order.\n",
    "2.Key-value pairs: Each element in a dictionary consists of a key and a corresponding value.\n",
    "3.Mutable: You can add, modify, or remove key-value pairs in a dictionary.\n",
    "4.Heterogeneous: Keys and values can be of different data types.\n",
    "\"\"\""
   ]
  },
  {
   "cell_type": "code",
   "execution_count": 238,
   "id": "8c26f8c9-4504-4c1f-8272-d68b1f42bcb4",
   "metadata": {},
   "outputs": [
    {
     "data": {
      "text/plain": [
       "dict"
      ]
     },
     "execution_count": 238,
     "metadata": {},
     "output_type": "execute_result"
    }
   ],
   "source": [
    "#dictionaries\n",
    "#key/value pairs\n",
    "\n",
    "dict_cream = {'name':'Alex Freberg', 'weekly intake':5, 'favorite ice creams': ['MCC','Chocolate']}\n",
    "type(dict_cream)"
   ]
  },
  {
   "cell_type": "code",
   "execution_count": 240,
   "id": "f842e64e-929d-47b9-9cfd-67139517bde6",
   "metadata": {},
   "outputs": [
    {
     "name": "stdout",
     "output_type": "stream",
     "text": [
      "{'name': 'Alex Freberg', 'weekly intake': 5, 'favorite ice creams': ['MCC', 'Chocolate']}\n"
     ]
    }
   ],
   "source": [
    "print(dict_cream)"
   ]
  },
  {
   "cell_type": "code",
   "execution_count": 242,
   "id": "3621ebda-91cf-4794-a63c-b114cd54e9a9",
   "metadata": {},
   "outputs": [
    {
     "data": {
      "text/plain": [
       "dict_values(['Alex Freberg', 5, ['MCC', 'Chocolate']])"
      ]
     },
     "execution_count": 242,
     "metadata": {},
     "output_type": "execute_result"
    }
   ],
   "source": [
    "dict_cream.values()"
   ]
  },
  {
   "cell_type": "code",
   "execution_count": 244,
   "id": "9b0dedbc-1aba-47c8-82d9-745396f582e9",
   "metadata": {},
   "outputs": [
    {
     "data": {
      "text/plain": [
       "dict_keys(['name', 'weekly intake', 'favorite ice creams'])"
      ]
     },
     "execution_count": 244,
     "metadata": {},
     "output_type": "execute_result"
    }
   ],
   "source": [
    "dict_cream.keys()"
   ]
  },
  {
   "cell_type": "code",
   "execution_count": 246,
   "id": "cb7e7432-aa63-4c7e-a57b-04a9c14275f7",
   "metadata": {},
   "outputs": [
    {
     "data": {
      "text/plain": [
       "dict_items([('name', 'Alex Freberg'), ('weekly intake', 5), ('favorite ice creams', ['MCC', 'Chocolate'])])"
      ]
     },
     "execution_count": 246,
     "metadata": {},
     "output_type": "execute_result"
    }
   ],
   "source": [
    "dict_cream.items()"
   ]
  },
  {
   "cell_type": "code",
   "execution_count": 262,
   "id": "cef1ebef-432b-4b5c-abfb-162609548507",
   "metadata": {},
   "outputs": [
    {
     "data": {
      "text/plain": [
       "'Alex Freberg'"
      ]
     },
     "execution_count": 262,
     "metadata": {},
     "output_type": "execute_result"
    }
   ],
   "source": [
    "dict_cream['name']"
   ]
  },
  {
   "cell_type": "code",
   "execution_count": 264,
   "id": "8b51ad19-9906-4ec2-af61-af0e08ddfe8a",
   "metadata": {},
   "outputs": [
    {
     "name": "stdout",
     "output_type": "stream",
     "text": [
      "{'name': 'Christine Freberg', 'weekly intake': 5, 'favorite ice creams': ['MCC', 'Chocolate']}\n"
     ]
    }
   ],
   "source": [
    "#Update the values in dictionary\n",
    "\n",
    "dict_cream['name'] = 'Christine Freberg'\n",
    "\n",
    "print(dict_cream)"
   ]
  },
  {
   "cell_type": "code",
   "execution_count": 268,
   "id": "f4ba3712-c14b-4497-afba-c0b895ff31b1",
   "metadata": {},
   "outputs": [
    {
     "name": "stdout",
     "output_type": "stream",
     "text": [
      "{'name': 'Christine Freberg', 'weekly intake': 10, 'favorite ice creams': ['MCC', 'Chocolate'], 'weight': 300}\n"
     ]
    }
   ],
   "source": [
    "dict_cream.update({'name': 'Christine Freberg', 'weekly intake': 10, 'weight':300})\n",
    "print(dict_cream)"
   ]
  },
  {
   "cell_type": "code",
   "execution_count": 270,
   "id": "26ec7875-8a00-44c4-a0aa-14adb1c982bb",
   "metadata": {},
   "outputs": [
    {
     "name": "stdout",
     "output_type": "stream",
     "text": [
      "{'name': 'Christine Freberg', 'weekly intake': 10, 'favorite ice creams': ['MCC', 'Chocolate']}\n"
     ]
    }
   ],
   "source": [
    "#delete the value:\n",
    "\n",
    "del dict_cream['weight']\n",
    "print(dict_cream)"
   ]
  },
  {
   "cell_type": "markdown",
   "id": "b5643b3d-7cdf-4fbc-9bf1-63a6878eb6f0",
   "metadata": {},
   "source": [
    "# Comparison Operator :"
   ]
  },
  {
   "cell_type": "code",
   "execution_count": null,
   "id": "b4e8cf7f-dd6f-497a-a38a-03595b126a56",
   "metadata": {},
   "outputs": [],
   "source": [
    "\"\"\"\n",
    "Comparison Operators in Python\n",
    "\n",
    "Comparison operators are used to compare values in Python. \n",
    "They return a Boolean value (True or False) based on the result of the comparison.\n",
    "\n",
    "Here's a list of common comparison operators in Python:\n",
    "\n",
    "Operator\t   Meaning\t            Example\n",
    "==\t           Equal to\t            x == y\n",
    "!=\t         Not equal to\t        x != y\n",
    ">\t         Greater than       \tx > y\n",
    "<\t           Less than\t        x < y\n",
    ">=\t      Greater than or equal to\tx >= y\n",
    "<=\t      Less than or equal to\t    x <= y\n",
    "\"\"\""
   ]
  },
  {
   "cell_type": "code",
   "execution_count": 282,
   "id": "50dd6bc8-fe0c-4bc7-8b2c-bdb910342645",
   "metadata": {},
   "outputs": [
    {
     "data": {
      "text/plain": [
       "False"
      ]
     },
     "execution_count": 282,
     "metadata": {},
     "output_type": "execute_result"
    }
   ],
   "source": [
    "#comparison Operator:\n",
    "\n",
    "10 == 50\n"
   ]
  },
  {
   "cell_type": "code",
   "execution_count": 284,
   "id": "66061f85-6f25-481b-9eeb-7a0e38735a7b",
   "metadata": {},
   "outputs": [
    {
     "data": {
      "text/plain": [
       "True"
      ]
     },
     "execution_count": 284,
     "metadata": {},
     "output_type": "execute_result"
    }
   ],
   "source": [
    "10 != 50"
   ]
  },
  {
   "cell_type": "code",
   "execution_count": 290,
   "id": "1d9f9c37-4a8e-4ed1-b32e-cf21e481ada5",
   "metadata": {},
   "outputs": [
    {
     "data": {
      "text/plain": [
       "True"
      ]
     },
     "execution_count": 290,
     "metadata": {},
     "output_type": "execute_result"
    }
   ],
   "source": [
    "'Vanilla' == 'Vanilla'"
   ]
  },
  {
   "cell_type": "code",
   "execution_count": 292,
   "id": "57da32a2-766f-4375-9b03-9b328aebb782",
   "metadata": {},
   "outputs": [
    {
     "data": {
      "text/plain": [
       "True"
      ]
     },
     "execution_count": 292,
     "metadata": {},
     "output_type": "execute_result"
    }
   ],
   "source": [
    "x = 'Vanilla'\n",
    "y = 'Chocolate'\n",
    "\n",
    "x != y"
   ]
  },
  {
   "cell_type": "code",
   "execution_count": 298,
   "id": "a017fbef-567f-4395-8b64-1e400dbb7dd6",
   "metadata": {},
   "outputs": [
    {
     "data": {
      "text/plain": [
       "True"
      ]
     },
     "execution_count": 298,
     "metadata": {},
     "output_type": "execute_result"
    }
   ],
   "source": [
    "10 <= 10"
   ]
  },
  {
   "cell_type": "markdown",
   "id": "5a690e90-4891-4379-99eb-70ffc3177260",
   "metadata": {},
   "source": [
    "# Logical Operator :"
   ]
  },
  {
   "cell_type": "code",
   "execution_count": null,
   "id": "6e833d0a-fd72-4718-85d4-ab61a1acda1a",
   "metadata": {},
   "outputs": [],
   "source": [
    "\"\"\"\n",
    "Logical Operators in Python\n",
    "\n",
    "Logical operators are used to combine multiple Boolean expressions. \n",
    "They return a Boolean value based on the truth values of the operands.\n",
    "\n",
    "Here's a list of common logical operators in Python:\n",
    "\n",
    "Operator\tMeaning  \t Example\n",
    "and\t      Logical AND\t x and y\n",
    "or\t      Logical OR      x or y\n",
    "not\t      Logical NOT\t not x\n",
    "\"\"\""
   ]
  },
  {
   "cell_type": "code",
   "execution_count": 315,
   "id": "f6221bc9-a155-431a-a289-41874fd872b5",
   "metadata": {},
   "outputs": [
    {
     "data": {
      "text/plain": [
       "False"
      ]
     },
     "execution_count": 315,
     "metadata": {},
     "output_type": "execute_result"
    }
   ],
   "source": [
    "#Logical Operator\n",
    "\n",
    "(10 > 50) and (50 > 10)"
   ]
  },
  {
   "cell_type": "code",
   "execution_count": 313,
   "id": "98a41aa6-f4b9-45eb-a29c-275afc72bc2f",
   "metadata": {},
   "outputs": [
    {
     "data": {
      "text/plain": [
       "True"
      ]
     },
     "execution_count": 313,
     "metadata": {},
     "output_type": "execute_result"
    }
   ],
   "source": [
    "(70 > 50) and (50 > 10)"
   ]
  },
  {
   "cell_type": "code",
   "execution_count": 319,
   "id": "a3b8bcfd-c4ee-42a8-8db3-778136c08b84",
   "metadata": {},
   "outputs": [
    {
     "data": {
      "text/plain": [
       "True"
      ]
     },
     "execution_count": 319,
     "metadata": {},
     "output_type": "execute_result"
    }
   ],
   "source": [
    "(10 > 50) or (50 > 10)"
   ]
  },
  {
   "cell_type": "code",
   "execution_count": 321,
   "id": "d0a70d38-691e-42cc-b19e-c0f54350e02e",
   "metadata": {},
   "outputs": [
    {
     "data": {
      "text/plain": [
       "True"
      ]
     },
     "execution_count": 321,
     "metadata": {},
     "output_type": "execute_result"
    }
   ],
   "source": [
    "('Vanilla' > 'Chocolate') and (50 > 10)"
   ]
  },
  {
   "cell_type": "code",
   "execution_count": 327,
   "id": "55112b84-aca3-470e-bdda-903e36c4e1f0",
   "metadata": {},
   "outputs": [
    {
     "data": {
      "text/plain": [
       "False"
      ]
     },
     "execution_count": 327,
     "metadata": {},
     "output_type": "execute_result"
    }
   ],
   "source": [
    "not(50 > 10)"
   ]
  },
  {
   "cell_type": "markdown",
   "id": "16d9b2ec-908e-4864-8c33-f3efb7e1edd5",
   "metadata": {},
   "source": [
    "# Membership Operators :"
   ]
  },
  {
   "cell_type": "code",
   "execution_count": null,
   "id": "089f4bc4-49aa-4dc1-9fb0-8c6e9847b9a4",
   "metadata": {},
   "outputs": [],
   "source": [
    "\"\"\"\n",
    "Membership Operators in Python\n",
    "\n",
    "Membership operators are used to check if a value is present within a sequence (such as a string, list, tuple, or set). \n",
    "They return a Boolean value (True or False).\n",
    "\n",
    "There are two membership operators in Python:\n",
    "\n",
    "in\n",
    "not in\n",
    "\"\"\""
   ]
  },
  {
   "cell_type": "code",
   "execution_count": 330,
   "id": "200138c7-851e-4ab3-83b4-e6bb4557acff",
   "metadata": {},
   "outputs": [
    {
     "data": {
      "text/plain": [
       "True"
      ]
     },
     "execution_count": 330,
     "metadata": {},
     "output_type": "execute_result"
    }
   ],
   "source": [
    "ice_cream = 'I love chocolate ice cream'\n",
    "\n",
    "'love' in ice_cream"
   ]
  },
  {
   "cell_type": "code",
   "execution_count": 332,
   "id": "ef82c28f-8d88-437e-ab28-621d1c410b60",
   "metadata": {},
   "outputs": [
    {
     "data": {
      "text/plain": [
       "False"
      ]
     },
     "execution_count": 332,
     "metadata": {},
     "output_type": "execute_result"
    }
   ],
   "source": [
    "'you' in ice_cream"
   ]
  },
  {
   "cell_type": "code",
   "execution_count": 344,
   "id": "5bdb69ad-22c5-43c7-acc6-969caf7afed9",
   "metadata": {},
   "outputs": [
    {
     "data": {
      "text/plain": [
       "True"
      ]
     },
     "execution_count": 344,
     "metadata": {},
     "output_type": "execute_result"
    }
   ],
   "source": [
    "scoops = [1,2,3,4,5]\n",
    "wanted_scoops = 8\n",
    "wanted_scoops not in scoops"
   ]
  },
  {
   "cell_type": "markdown",
   "id": "5b588619-aa3b-4bc6-a4a8-794280f230b2",
   "metadata": {},
   "source": [
    "# If - Else Statement :"
   ]
  },
  {
   "cell_type": "code",
   "execution_count": null,
   "id": "5c7bead4-3add-4344-bd7e-0ab4d790550a",
   "metadata": {},
   "outputs": [],
   "source": [
    "\"\"\"\n",
    "If-Else Statements in Python\n",
    "\n",
    "An if-else statement is a control flow statement that allows you to execute different code blocks based on a specific condition. \n",
    "It provides a way to make decisions and perform actions accordingly.\n",
    "\"\"\""
   ]
  },
  {
   "cell_type": "code",
   "execution_count": 353,
   "id": "f131bd69-81a9-4e39-91d4-7b6963b37f3b",
   "metadata": {},
   "outputs": [
    {
     "name": "stdout",
     "output_type": "stream",
     "text": [
      "It worked!\n"
     ]
    }
   ],
   "source": [
    "if 25 > 10:\n",
    "    print('It worked!')"
   ]
  },
  {
   "cell_type": "code",
   "execution_count": 357,
   "id": "27690337-4371-4700-bf5b-381a8dc0295d",
   "metadata": {},
   "outputs": [
    {
     "name": "stdout",
     "output_type": "stream",
     "text": [
      "It did not Work..\n"
     ]
    }
   ],
   "source": [
    "if 25 < 10:\n",
    "    print('It worked!')\n",
    "else:\n",
    "    print('It did not Work..')"
   ]
  },
  {
   "cell_type": "code",
   "execution_count": 369,
   "id": "2307d815-0203-43f7-a20c-202a6e198452",
   "metadata": {},
   "outputs": [
    {
     "name": "stdout",
     "output_type": "stream",
     "text": [
      "elif 3 worked!\n"
     ]
    }
   ],
   "source": [
    "if 25 < 10:\n",
    "    print('It worked!')\n",
    "elif 25< 20:\n",
    "    print('elif 1 worked!')\n",
    "elif 25< 21:\n",
    "    print('elif 2 worked!')\n",
    "elif 25< 40:\n",
    "    print('elif 3 worked!')\n",
    "elif 25< 50:\n",
    "    print('elif 4 worked!')\n",
    "else:\n",
    "    print('It did not Work..')"
   ]
  },
  {
   "cell_type": "code",
   "execution_count": 371,
   "id": "f36eb760-e117-40ea-8230-91fc0172e6a3",
   "metadata": {},
   "outputs": [
    {
     "name": "stdout",
     "output_type": "stream",
     "text": [
      "It did not work...\n"
     ]
    }
   ],
   "source": [
    "# If-else statement in one line :\n",
    "\n",
    "print('It worked!') if 10>30 else print('It did not work...')"
   ]
  },
  {
   "cell_type": "code",
   "execution_count": 381,
   "id": "aed836e7-5b12-4f38-b441-0bff664501da",
   "metadata": {},
   "outputs": [
    {
     "name": "stdout",
     "output_type": "stream",
     "text": [
      "It worked!\n",
      "This nested if statement worked!\n"
     ]
    }
   ],
   "source": [
    "# Nested Statement :\n",
    "\n",
    "if 25 < 10 or (1 < 3):\n",
    "    print('It worked!')\n",
    "    if 10 > 5:\n",
    "        print('This nested if statement worked!')\n",
    "elif 25< 20:\n",
    "    print('elif 1 worked!')\n",
    "elif 25< 21:\n",
    "    print('elif 2 worked!')\n",
    "elif 25< 40:\n",
    "    print('elif 3 worked!')\n",
    "     \n",
    "elif 25< 50:\n",
    "    print('elif 4 worked!')\n",
    "else:\n",
    "    print('It did not Work..')\n"
   ]
  },
  {
   "cell_type": "markdown",
   "id": "50cdd603-695b-4fa9-84c0-813444cdbf03",
   "metadata": {},
   "source": [
    "# For Loops"
   ]
  },
  {
   "cell_type": "code",
   "execution_count": null,
   "id": "fe932715-27ce-4be4-b79b-707504f1ef0b",
   "metadata": {},
   "outputs": [],
   "source": [
    "\"\"\"\n",
    "For Loops in Python\n",
    "\n",
    "A for loop in Python is a control flow statement that iterates over a sequence of\n",
    "elements (like a list, tuple, string, or range object), executing a block of code for each element.\n",
    "It's a powerful tool for performing repetitive tasks on collections of data.\n",
    "\"\"\""
   ]
  },
  {
   "cell_type": "code",
   "execution_count": 384,
   "id": "5a595ebb-c3db-4d88-9a0f-d08a3f785390",
   "metadata": {},
   "outputs": [],
   "source": [
    "integer = [1,2,3,4,5]"
   ]
  },
  {
   "cell_type": "code",
   "execution_count": 386,
   "id": "741c0593-c5e1-48e7-ac61-5554b13bc721",
   "metadata": {},
   "outputs": [
    {
     "name": "stdout",
     "output_type": "stream",
     "text": [
      "1\n",
      "2\n",
      "3\n",
      "4\n",
      "5\n"
     ]
    }
   ],
   "source": [
    "for n in integer:\n",
    "    print(n)"
   ]
  },
  {
   "cell_type": "code",
   "execution_count": 394,
   "id": "33c97ab1-7444-4549-9fc8-58c3047f14f6",
   "metadata": {},
   "outputs": [
    {
     "name": "stdout",
     "output_type": "stream",
     "text": [
      "yep!\n",
      "yep!\n",
      "yep!\n",
      "yep!\n",
      "yep!\n"
     ]
    }
   ],
   "source": [
    "for n in integer:\n",
    "    print(\"yep!\")"
   ]
  },
  {
   "cell_type": "code",
   "execution_count": 398,
   "id": "2da32cb9-844c-4732-83aa-9409474d091f",
   "metadata": {},
   "outputs": [
    {
     "name": "stdout",
     "output_type": "stream",
     "text": [
      "2\n",
      "4\n",
      "6\n",
      "8\n",
      "10\n"
     ]
    }
   ],
   "source": [
    "integers = [1,2,3,4,5]\n",
    "for jelly in integers:\n",
    "    print(jelly + jelly)"
   ]
  },
  {
   "cell_type": "code",
   "execution_count": 407,
   "id": "b79f07ce-68e1-4c98-8f28-38c7ec438550",
   "metadata": {},
   "outputs": [],
   "source": [
    "ice_cream_dict = {'name': 'Alex Freberg', 'weekly intake': 5, 'favorite ice creams': ['MCC', 'Chocolate']}"
   ]
  },
  {
   "cell_type": "code",
   "execution_count": 413,
   "id": "13dbd571-3188-4283-857f-1a6ee2928e8e",
   "metadata": {},
   "outputs": [
    {
     "name": "stdout",
     "output_type": "stream",
     "text": [
      "Alex Freberg\n",
      "5\n",
      "['MCC', 'Chocolate']\n"
     ]
    }
   ],
   "source": [
    "for cream in ice_cream_dict.values() :\n",
    "    print(cream)"
   ]
  },
  {
   "cell_type": "code",
   "execution_count": 417,
   "id": "75e14ccd-c405-4cdf-bceb-223bc49a4a43",
   "metadata": {},
   "outputs": [
    {
     "name": "stdout",
     "output_type": "stream",
     "text": [
      "name => Alex Freberg\n",
      "weekly intake => 5\n",
      "favorite ice creams => ['MCC', 'Chocolate']\n"
     ]
    }
   ],
   "source": [
    "for key, value in ice_cream_dict.items() :\n",
    "    print(key,'=>', value)"
   ]
  },
  {
   "cell_type": "markdown",
   "id": "22a0d834-e363-4d0c-98f6-3e9923597da2",
   "metadata": {},
   "source": [
    "# Nested For Loops :"
   ]
  },
  {
   "cell_type": "code",
   "execution_count": null,
   "id": "63fd30de-cc6f-41c7-8f9f-17d0a29a61fb",
   "metadata": {},
   "outputs": [],
   "source": [
    "\"\"\"\n",
    "Nested For Loops in Python\n",
    "\n",
    "A nested for loop is a for loop that is contained within another for loop. This structure allows for efficient iteration over multiple sequences or elements simultaneously.\n",
    "\n",
    "Basic Syntax:\n",
    "\n",
    "Python\n",
    "for outer_item in outer_sequence:\n",
    "    for inner_item in inner_sequence:\n",
    "        # Code to be executed\n",
    "\n",
    "\"\"\""
   ]
  },
  {
   "cell_type": "code",
   "execution_count": 424,
   "id": "793b1081-a540-4d5e-ab39-7512c4583136",
   "metadata": {},
   "outputs": [],
   "source": [
    "flavors = ['Vanilla', 'Chocolate', 'Cookie Dough']\n",
    "toppings = ['Hot Fudge', 'Oreos', 'Marshmallows']"
   ]
  },
  {
   "cell_type": "code",
   "execution_count": 426,
   "id": "1445c983-9d05-48d6-98ae-ff4455578082",
   "metadata": {},
   "outputs": [
    {
     "name": "stdout",
     "output_type": "stream",
     "text": [
      "Vanilla Topping with Hot Fudge\n",
      "Vanilla Topping with Oreos\n",
      "Vanilla Topping with Marshmallows\n",
      "Chocolate Topping with Hot Fudge\n",
      "Chocolate Topping with Oreos\n",
      "Chocolate Topping with Marshmallows\n",
      "Cookie Dough Topping with Hot Fudge\n",
      "Cookie Dough Topping with Oreos\n",
      "Cookie Dough Topping with Marshmallows\n"
     ]
    }
   ],
   "source": [
    "for one in flavors:\n",
    "    for two in toppings:\n",
    "        print(one, 'Topping with',two)"
   ]
  },
  {
   "cell_type": "markdown",
   "id": "4b93c0f5-0a99-471f-b1b0-fb1313b703d2",
   "metadata": {},
   "source": [
    "# While Loops"
   ]
  },
  {
   "cell_type": "code",
   "execution_count": null,
   "id": "1756d7b2-21ee-4dc6-b4b9-87a46fb3532b",
   "metadata": {},
   "outputs": [],
   "source": [
    "\"\"\"\n",
    "#While Loops in Python\n",
    "\n",
    "A while loop in Python is a control flow statement that repeatedly executes a block of code as long as a specified condition remains true. \n",
    "It's a versatile tool for tasks that require iterative execution until a certain criteria is met.\n",
    "\"\"\""
   ]
  },
  {
   "cell_type": "code",
   "execution_count": 434,
   "id": "dbf8198d-6c45-4473-9c8e-5ea210d8bc3b",
   "metadata": {},
   "outputs": [
    {
     "name": "stdout",
     "output_type": "stream",
     "text": [
      "0\n",
      "1\n",
      "2\n",
      "3\n",
      "4\n"
     ]
    }
   ],
   "source": [
    "number = 0\n",
    "\n",
    "while number < 5:\n",
    "    print(number)\n",
    "    number = number + 1"
   ]
  },
  {
   "cell_type": "markdown",
   "id": "70687218-ad6a-41b7-a485-80f843b129d5",
   "metadata": {},
   "source": [
    "# Break Statement"
   ]
  },
  {
   "cell_type": "code",
   "execution_count": null,
   "id": "f0372829-44ca-42e2-a917-a5284d52ffa8",
   "metadata": {},
   "outputs": [],
   "source": [
    "\"\"\"\n",
    "The break Statement in Python\n",
    "\n",
    "The break statement is a control flow statement that allows you to terminate a loop prematurely, even if the loop's condition is still true. \n",
    "It's useful when you want to exit a loop under certain conditions, such as when a specific condition is met or an error occurs.\n",
    "\"\"\""
   ]
  },
  {
   "cell_type": "code",
   "execution_count": 436,
   "id": "a96be47a-89fd-4785-befd-1abafd609ffe",
   "metadata": {},
   "outputs": [
    {
     "name": "stdout",
     "output_type": "stream",
     "text": [
      "0\n",
      "1\n",
      "2\n",
      "3\n"
     ]
    }
   ],
   "source": [
    "number = 0\n",
    "\n",
    "while number < 5:\n",
    "    print(number)\n",
    "    if number == 3:\n",
    "        break\n",
    "    number = number + 1"
   ]
  },
  {
   "cell_type": "code",
   "execution_count": 444,
   "id": "a70478b7-4238-451a-af7f-5489b852cf8e",
   "metadata": {},
   "outputs": [
    {
     "name": "stdout",
     "output_type": "stream",
     "text": [
      "0\n",
      "1\n",
      "2\n",
      "3\n",
      "4\n",
      "No longer < 5\n"
     ]
    }
   ],
   "source": [
    "number = 0\n",
    "\n",
    "while number < 5:\n",
    "    print(number)\n",
    "    if number == 6:\n",
    "        break\n",
    "    number = number + 1\n",
    "else:\n",
    "    print('No longer < 5')"
   ]
  },
  {
   "cell_type": "markdown",
   "id": "a8d610bd-7810-47b6-b54b-dac666a479c9",
   "metadata": {},
   "source": [
    "# Continue Statement:"
   ]
  },
  {
   "cell_type": "code",
   "execution_count": null,
   "id": "8fabd9bc-b228-4e30-9c30-b68d25500ad3",
   "metadata": {},
   "outputs": [],
   "source": [
    "\"\"\"\n",
    "The continue Statement in Python\n",
    "\n",
    "The continue statement is a control flow statement that allows you to skip the remaining code in the current iteration of a loop and jump \n",
    "to the next iteration.\n",
    "It's useful when you want to avoid executing certain code blocks under specific conditions, but you don't want to terminate the entire loop.\n",
    "\"\"\""
   ]
  },
  {
   "cell_type": "code",
   "execution_count": 453,
   "id": "5a10c2ef-1180-42f9-99c9-6a02dd3a851a",
   "metadata": {},
   "outputs": [
    {
     "name": "stdout",
     "output_type": "stream",
     "text": [
      "1\n",
      "2\n",
      "4\n",
      "5\n",
      "No longer < 5\n"
     ]
    }
   ],
   "source": [
    "number = 0\n",
    "\n",
    "while number < 5:\n",
    "    number = number + 1\n",
    "    if number == 3:\n",
    "        continue\n",
    "    print(number)\n",
    "else:\n",
    "    print('No longer < 5')"
   ]
  },
  {
   "cell_type": "markdown",
   "id": "cd7da734-c695-4f07-8ef4-7ee4a1c06745",
   "metadata": {},
   "source": [
    "# Functions in Python:"
   ]
  },
  {
   "cell_type": "code",
   "execution_count": 2,
   "id": "e23d5c94-8ed5-4e08-9e08-1b816befc235",
   "metadata": {},
   "outputs": [
    {
     "data": {
      "text/plain": [
       "'\\n'"
      ]
     },
     "execution_count": 2,
     "metadata": {},
     "output_type": "execute_result"
    }
   ],
   "source": [
    "\"\"\"\n",
    "Functions in Python\n",
    "\n",
    "Functions are blocks of reusable code that perform specific tasks. \n",
    "They help to organize code, improve readability, and make it easier to maintain.\n",
    "\n",
    "Defining a Function:\n",
    "\n",
    "To define a function in Python, you use the def keyword followed by the function name and a pair of parentheses. \n",
    "The parentheses can contain parameters, which are values passed to the function. The function body is indented.   \n",
    "\n",
    "\n",
    "\"\"\""
   ]
  },
  {
   "cell_type": "code",
   "execution_count": 15,
   "id": "c9137178-64e7-4a49-9952-a6840e8021a7",
   "metadata": {},
   "outputs": [],
   "source": [
    "def first_func():\n",
    "    print('we did it!')"
   ]
  },
  {
   "cell_type": "code",
   "execution_count": 17,
   "id": "a43db33d-5d1c-49ba-b3ac-5a0127b56a33",
   "metadata": {},
   "outputs": [
    {
     "name": "stdout",
     "output_type": "stream",
     "text": [
      "we did it!\n"
     ]
    }
   ],
   "source": [
    "first_func()"
   ]
  },
  {
   "cell_type": "code",
   "execution_count": 32,
   "id": "6543f527-17e3-4ce7-82e3-01c55307bb4f",
   "metadata": {},
   "outputs": [],
   "source": [
    "# function with arguments:\n",
    "\n",
    "def number_squared(number):\n",
    "    print(number**2)\n"
   ]
  },
  {
   "cell_type": "code",
   "execution_count": 34,
   "id": "1019387d-88b7-49f4-a670-40326d5b9b03",
   "metadata": {},
   "outputs": [
    {
     "name": "stdout",
     "output_type": "stream",
     "text": [
      "25\n"
     ]
    }
   ],
   "source": [
    "number_squared(5)"
   ]
  },
  {
   "cell_type": "code",
   "execution_count": 36,
   "id": "cce2b985-12c5-413e-9d72-e4753c206d98",
   "metadata": {},
   "outputs": [],
   "source": [
    "def number_squared_cust(number, power):\n",
    "    print(number**power)\n",
    "    "
   ]
  },
  {
   "cell_type": "code",
   "execution_count": 42,
   "id": "0143bc96-2e45-4084-99f1-d09438e620f0",
   "metadata": {},
   "outputs": [
    {
     "name": "stdout",
     "output_type": "stream",
     "text": [
      "125\n"
     ]
    }
   ],
   "source": [
    "number_squared_cust(5,3)"
   ]
  },
  {
   "cell_type": "code",
   "execution_count": null,
   "id": "65bd7c0d-fcb4-4cbb-8c3e-ad48ba9e0ad5",
   "metadata": {},
   "outputs": [],
   "source": [
    "# Arbitrary arguments\n",
    "\n",
    "\"\"\"\n",
    "Arbitrary Arguments in Python :\n",
    "\n",
    "In Python, you can define functions that can accept a variable number of arguments using the *args and **kwargs syntax.\n",
    "\n",
    "\"\"\"\n"
   ]
  },
  {
   "cell_type": "code",
   "execution_count": 50,
   "id": "e0706b7b-518b-49ce-bf83-d1dc0432f1dc",
   "metadata": {},
   "outputs": [],
   "source": [
    "args_tuple = (5,6,1,2,8)\n",
    "\n",
    "def number_args(*args):\n",
    "    print(args[0]*args[1])\n",
    "    "
   ]
  },
  {
   "cell_type": "code",
   "execution_count": 54,
   "id": "0d473607-e60e-492f-b9c8-d655fc63a0f9",
   "metadata": {},
   "outputs": [
    {
     "name": "stdout",
     "output_type": "stream",
     "text": [
      "30\n"
     ]
    }
   ],
   "source": [
    "number_args(*args_tuple)"
   ]
  },
  {
   "cell_type": "code",
   "execution_count": 60,
   "id": "c6074a9d-530f-4b4e-a8f8-a97c2d9d3db6",
   "metadata": {},
   "outputs": [],
   "source": [
    "# Keyword argument:\n",
    "\n",
    "def number_squared_cust(number, power):\n",
    "    print(number**power)"
   ]
  },
  {
   "cell_type": "code",
   "execution_count": 62,
   "id": "e22fb66b-b3af-4841-80dc-3aac6530682c",
   "metadata": {},
   "outputs": [
    {
     "name": "stdout",
     "output_type": "stream",
     "text": [
      "125\n"
     ]
    }
   ],
   "source": [
    "number_squared_cust(power = 3,number = 5)"
   ]
  },
  {
   "cell_type": "code",
   "execution_count": 88,
   "id": "97a675bb-9259-4aab-8e03-547af8cab5b1",
   "metadata": {},
   "outputs": [],
   "source": [
    "# Keyword Arbitrary argument:\n",
    "\n",
    "\"\"\"\n",
    "Keyword Arbitrary Arguments (kwargs)\n",
    "\n",
    "In Python, keyword arbitrary arguments, often denoted by **kwargs, allow you to pass an arbitrary number of keyword arguments to a function. \n",
    "These arguments are collected into a dictionary inside the function, making it flexible to pass various key-value pairs.\n",
    "\"\"\"\n",
    "\n",
    "def number_kwarg(**number):\n",
    "    print('My number is : '+ number ['integer'] + '\\nMy other number: '+ number['integer2'])"
   ]
  },
  {
   "cell_type": "code",
   "execution_count": 90,
   "id": "385251c3-23e7-4f28-9be1-59a0d501d7bd",
   "metadata": {},
   "outputs": [
    {
     "name": "stdout",
     "output_type": "stream",
     "text": [
      "My number is : 2309\n",
      "My other number: 349\n"
     ]
    }
   ],
   "source": [
    "number_kwarg(integer = '2309', integer2 = '349')"
   ]
  },
  {
   "cell_type": "markdown",
   "id": "a5bd269d-612a-4e24-b6ac-4e3022b0ef42",
   "metadata": {},
   "source": [
    "# Converting Data Types in Python :"
   ]
  },
  {
   "cell_type": "code",
   "execution_count": 93,
   "id": "f5f4aae1-d69a-4adf-9138-5898f8f6a676",
   "metadata": {},
   "outputs": [
    {
     "data": {
      "text/plain": [
       "int"
      ]
     },
     "execution_count": 93,
     "metadata": {},
     "output_type": "execute_result"
    }
   ],
   "source": [
    "num_int = 7\n",
    "\n",
    "type(num_int)"
   ]
  },
  {
   "cell_type": "code",
   "execution_count": 108,
   "id": "e13c1b8f-82f5-4641-baaf-74b036fb7ff8",
   "metadata": {},
   "outputs": [
    {
     "data": {
      "text/plain": [
       "str"
      ]
     },
     "execution_count": 108,
     "metadata": {},
     "output_type": "execute_result"
    }
   ],
   "source": [
    "num_str = '7'\n",
    "type(num_str)"
   ]
  },
  {
   "cell_type": "code",
   "execution_count": 120,
   "id": "7ed69f37-9a24-470e-8b91-64f148901027",
   "metadata": {},
   "outputs": [
    {
     "data": {
      "text/plain": [
       "int"
      ]
     },
     "execution_count": 120,
     "metadata": {},
     "output_type": "execute_result"
    }
   ],
   "source": [
    "num_str_conv = int(num_str)\n",
    "type(num_str_conv)"
   ]
  },
  {
   "cell_type": "code",
   "execution_count": 122,
   "id": "be742991-4ad6-4c92-badf-6ed97bc11482",
   "metadata": {},
   "outputs": [
    {
     "name": "stdout",
     "output_type": "stream",
     "text": [
      "14\n"
     ]
    }
   ],
   "source": [
    "num_sum = num_int + num_str_conv \n",
    "print(num_sum)"
   ]
  },
  {
   "cell_type": "code",
   "execution_count": 137,
   "id": "84b4848a-4b7b-46bf-a6c0-d9068b9c0388",
   "metadata": {},
   "outputs": [
    {
     "data": {
      "text/plain": [
       "list"
      ]
     },
     "execution_count": 137,
     "metadata": {},
     "output_type": "execute_result"
    }
   ],
   "source": [
    "list_type = [1,2,3]\n",
    "type(list_type)"
   ]
  },
  {
   "cell_type": "code",
   "execution_count": 141,
   "id": "fc7159d4-0f62-49ec-a042-06c4ea6a66f9",
   "metadata": {},
   "outputs": [
    {
     "data": {
      "text/plain": [
       "tuple"
      ]
     },
     "execution_count": 141,
     "metadata": {},
     "output_type": "execute_result"
    }
   ],
   "source": [
    "# converting list into tuple:\n",
    "\n",
    "type(tuple(list_type))"
   ]
  },
  {
   "cell_type": "code",
   "execution_count": 143,
   "id": "9e00c738-8db2-4682-bd71-54d863c0fa90",
   "metadata": {},
   "outputs": [],
   "source": [
    "list_type = [1,2,3,3,2,1,2,3,2,1]"
   ]
  },
  {
   "cell_type": "code",
   "execution_count": 145,
   "id": "41741259-96c0-4e80-9424-70e08c4774ce",
   "metadata": {},
   "outputs": [
    {
     "data": {
      "text/plain": [
       "{1, 2, 3}"
      ]
     },
     "execution_count": 145,
     "metadata": {},
     "output_type": "execute_result"
    }
   ],
   "source": [
    "# converting list into set:\n",
    "\n",
    "set(list_type)"
   ]
  },
  {
   "cell_type": "code",
   "execution_count": 147,
   "id": "f3667e53-8f60-4dec-b5ab-5319d4f17e60",
   "metadata": {},
   "outputs": [
    {
     "data": {
      "text/plain": [
       "set"
      ]
     },
     "execution_count": 147,
     "metadata": {},
     "output_type": "execute_result"
    }
   ],
   "source": [
    "type(set(list_type))"
   ]
  },
  {
   "cell_type": "code",
   "execution_count": 149,
   "id": "4e49cfac-7518-45e6-baca-b765dbd8d6f8",
   "metadata": {},
   "outputs": [
    {
     "data": {
      "text/plain": [
       "dict"
      ]
     },
     "execution_count": 149,
     "metadata": {},
     "output_type": "execute_result"
    }
   ],
   "source": [
    "# converting dictionary into list :\n",
    "\n",
    "dict_type = {'name' : 'Alex', 'age' : 28, 'hair' : 'N/A'}\n",
    "type(dict_type)"
   ]
  },
  {
   "cell_type": "code",
   "execution_count": 151,
   "id": "706356a8-32f3-4ed0-9bab-1cbc57511132",
   "metadata": {},
   "outputs": [
    {
     "data": {
      "text/plain": [
       "dict_items([('name', 'Alex'), ('age', 28), ('hair', 'N/A')])"
      ]
     },
     "execution_count": 151,
     "metadata": {},
     "output_type": "execute_result"
    }
   ],
   "source": [
    "dict_type.items()"
   ]
  },
  {
   "cell_type": "code",
   "execution_count": 155,
   "id": "222947f7-7b15-4cf1-bf56-d09707921543",
   "metadata": {},
   "outputs": [
    {
     "data": {
      "text/plain": [
       "dict_keys(['name', 'age', 'hair'])"
      ]
     },
     "execution_count": 155,
     "metadata": {},
     "output_type": "execute_result"
    }
   ],
   "source": [
    "dict_type.keys()"
   ]
  },
  {
   "cell_type": "code",
   "execution_count": 153,
   "id": "4e230924-9229-4b58-a3a4-f43042919d1b",
   "metadata": {},
   "outputs": [
    {
     "data": {
      "text/plain": [
       "dict_values(['Alex', 28, 'N/A'])"
      ]
     },
     "execution_count": 153,
     "metadata": {},
     "output_type": "execute_result"
    }
   ],
   "source": [
    "dict_type.values()"
   ]
  },
  {
   "cell_type": "code",
   "execution_count": 159,
   "id": "f2833810-a62f-4947-9b0d-8c4420611752",
   "metadata": {},
   "outputs": [
    {
     "data": {
      "text/plain": [
       "list"
      ]
     },
     "execution_count": 159,
     "metadata": {},
     "output_type": "execute_result"
    }
   ],
   "source": [
    "type(list(dict_type.keys()))"
   ]
  },
  {
   "cell_type": "code",
   "execution_count": 161,
   "id": "fce87a4a-b32e-40e7-9869-d0bf25ae0497",
   "metadata": {},
   "outputs": [
    {
     "data": {
      "text/plain": [
       "list"
      ]
     },
     "execution_count": 161,
     "metadata": {},
     "output_type": "execute_result"
    }
   ],
   "source": [
    "type(list(dict_type.values()))"
   ]
  },
  {
   "cell_type": "code",
   "execution_count": 169,
   "id": "2b7fe563-492e-4ef4-a46e-57699a5b9a7c",
   "metadata": {},
   "outputs": [
    {
     "data": {
      "text/plain": [
       "['I', ' ', 'l', 'i', 'k', 'e', ' ', 't', 'o', ' ', 'p', 'a', 'r', 't', 'y']"
      ]
     },
     "execution_count": 169,
     "metadata": {},
     "output_type": "execute_result"
    }
   ],
   "source": [
    "long_str = \"I like to party\"\n",
    "list(long_str)"
   ]
  },
  {
   "cell_type": "code",
   "execution_count": 171,
   "id": "38dcef30-5cbc-4f21-9de9-528a2ca2fbd8",
   "metadata": {},
   "outputs": [
    {
     "data": {
      "text/plain": [
       "{' ', 'I', 'a', 'e', 'i', 'k', 'l', 'o', 'p', 'r', 't', 'y'}"
      ]
     },
     "execution_count": 171,
     "metadata": {},
     "output_type": "execute_result"
    }
   ],
   "source": [
    "long_str = \"I like to party\"\n",
    "set(long_str)"
   ]
  },
  {
   "cell_type": "code",
   "execution_count": null,
   "id": "6858b0ce-5d1b-4422-83eb-2e1501c218f3",
   "metadata": {},
   "outputs": [],
   "source": []
  },
  {
   "cell_type": "code",
   "execution_count": null,
   "id": "2701552f-fcd8-4f9b-bb54-536ad7620309",
   "metadata": {},
   "outputs": [],
   "source": []
  },
  {
   "cell_type": "code",
   "execution_count": null,
   "id": "f0439698-9d1b-4fe2-9afd-b704c060c2f0",
   "metadata": {},
   "outputs": [],
   "source": []
  },
  {
   "cell_type": "code",
   "execution_count": null,
   "id": "e1359010-ee3b-40b7-a7ab-202d49fc20b4",
   "metadata": {},
   "outputs": [],
   "source": []
  },
  {
   "cell_type": "code",
   "execution_count": null,
   "id": "df396862-a49a-4f0e-be79-00baf12b4cd7",
   "metadata": {},
   "outputs": [],
   "source": []
  },
  {
   "cell_type": "code",
   "execution_count": null,
   "id": "5759757b-138f-427f-9492-013927295544",
   "metadata": {},
   "outputs": [],
   "source": []
  },
  {
   "cell_type": "code",
   "execution_count": null,
   "id": "40ada89a-6fdf-4711-a0ef-c3049a0f4552",
   "metadata": {},
   "outputs": [],
   "source": []
  },
  {
   "cell_type": "code",
   "execution_count": null,
   "id": "62583360-192e-4bca-b0d7-7022892737d4",
   "metadata": {},
   "outputs": [],
   "source": []
  },
  {
   "cell_type": "code",
   "execution_count": null,
   "id": "35abb10f-218a-44cc-97e0-03034fdc0c54",
   "metadata": {},
   "outputs": [],
   "source": []
  },
  {
   "cell_type": "code",
   "execution_count": null,
   "id": "d459166c-5cbd-49cd-a141-632630ce08cd",
   "metadata": {},
   "outputs": [],
   "source": []
  },
  {
   "cell_type": "code",
   "execution_count": null,
   "id": "6f594f82-13a3-476c-bd8e-06b9efc78f1d",
   "metadata": {},
   "outputs": [],
   "source": []
  },
  {
   "cell_type": "code",
   "execution_count": null,
   "id": "e1bbc863-cbb9-4291-bcac-4174783364f2",
   "metadata": {},
   "outputs": [],
   "source": []
  },
  {
   "cell_type": "code",
   "execution_count": null,
   "id": "91ac69a7-5f53-4e05-a610-9035098c33b5",
   "metadata": {},
   "outputs": [],
   "source": []
  },
  {
   "cell_type": "code",
   "execution_count": null,
   "id": "73c178ce-8177-4d34-8604-61612124ef81",
   "metadata": {},
   "outputs": [],
   "source": []
  },
  {
   "cell_type": "code",
   "execution_count": null,
   "id": "37f13408-cb6f-41e2-826f-b91267fda48f",
   "metadata": {},
   "outputs": [],
   "source": []
  },
  {
   "cell_type": "code",
   "execution_count": null,
   "id": "f69264ab-6053-4840-baac-fee05503344b",
   "metadata": {},
   "outputs": [],
   "source": []
  },
  {
   "cell_type": "code",
   "execution_count": null,
   "id": "beb61a4d-973d-42bd-9698-06ceb91b60e2",
   "metadata": {},
   "outputs": [],
   "source": []
  },
  {
   "cell_type": "code",
   "execution_count": null,
   "id": "ff814cb7-ed19-4694-8046-263e3113adaf",
   "metadata": {},
   "outputs": [],
   "source": []
  }
 ],
 "metadata": {
  "kernelspec": {
   "display_name": "Python 3 (ipykernel)",
   "language": "python",
   "name": "python3"
  },
  "language_info": {
   "codemirror_mode": {
    "name": "ipython",
    "version": 3
   },
   "file_extension": ".py",
   "mimetype": "text/x-python",
   "name": "python",
   "nbconvert_exporter": "python",
   "pygments_lexer": "ipython3",
   "version": "3.12.4"
  }
 },
 "nbformat": 4,
 "nbformat_minor": 5
}
